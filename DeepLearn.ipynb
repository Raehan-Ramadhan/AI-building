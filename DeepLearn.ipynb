{
 "cells": [
  {
   "cell_type": "code",
   "execution_count": 1,
   "metadata": {
    "collapsed": true
   },
   "outputs": [],
   "source": [
    "import numpy as np"
   ]
  },
  {
   "cell_type": "code",
   "execution_count": 2,
   "outputs": [],
   "source": [
    "class NeuralNet(object):\n",
    "    def __init__(self, layer_shape):\n",
    "        self.network_shape = layer_shape\n",
    "        self.weights = [np.random.rand(a,b) for a,b in zip(layer_shape[1:], layer_shape[:-1])]\n",
    "        self.biases = [np.random.rand(a,1) for a in layer_shape[1:]]\n",
    "        self.answer = []\n",
    "\n",
    "    def forward(self, a):\n",
    "        for w, b in zip(self.weights, self.biases):\n",
    "            a = self.sigmoid(np.dot(w, a) + b)\n",
    "            self.answer.append(a)\n",
    "        return a\n",
    "\n",
    "    def print_accuracy(self, inp, output):\n",
    "        predict = [self.forward(a) for a in inp]\n",
    "        correct = sum([np.argmax(a) == np.argmax(b) for a,b in zip(predict, output)])\n",
    "        print('{0}/{1} accuracy: {2}%'.format(correct, len(inp), (correct/len(inp)*100)))\n",
    "\n",
    "    @staticmethod\n",
    "    def sigmoid(x):\n",
    "        return 1/(1+np.exp(-x))"
   ],
   "metadata": {
    "collapsed": false,
    "pycharm": {
     "name": "#%%\n"
    }
   }
  },
  {
   "cell_type": "code",
   "execution_count": 3,
   "outputs": [
    {
     "name": "stdout",
     "output_type": "stream",
     "text": [
      "[[0.91930666]]\n"
     ]
    }
   ],
   "source": [
    "network_shape = [5,3,4,1]\n",
    "inp = np.array([[5],[3],[2],[5],[6]])\n",
    "\n",
    "ai = NeuralNet(network_shape)\n",
    "ans = ai.forward(inp)\n",
    "\n",
    "print(ans)"
   ],
   "metadata": {
    "collapsed": false,
    "pycharm": {
     "name": "#%%\n"
    }
   }
  },
  {
   "cell_type": "code",
   "execution_count": 4,
   "outputs": [
    {
     "name": "stdout",
     "output_type": "stream",
     "text": [
      "4932/50000 accuracy: 9.864%\n"
     ]
    }
   ],
   "source": [
    "with np.load('mnist.npz') as data:\n",
    "  training_images = data['training_images']\n",
    "  training_labels = data['training_labels']\n",
    "\n",
    "network_shape = [784,5,10]\n",
    "\n",
    "net = NeuralNet(network_shape)\n",
    "net.print_accuracy(training_images, training_labels)"
   ],
   "metadata": {
    "collapsed": false,
    "pycharm": {
     "name": "#%%\n"
    }
   }
  },
  {
   "cell_type": "code",
   "execution_count": null,
   "outputs": [],
   "source": [],
   "metadata": {
    "collapsed": false,
    "pycharm": {
     "name": "#%%\n"
    }
   }
  }
 ],
 "metadata": {
  "kernelspec": {
   "display_name": "Python 3",
   "language": "python",
   "name": "python3"
  },
  "language_info": {
   "codemirror_mode": {
    "name": "ipython",
    "version": 2
   },
   "file_extension": ".py",
   "mimetype": "text/x-python",
   "name": "python",
   "nbconvert_exporter": "python",
   "pygments_lexer": "ipython2",
   "version": "2.7.6"
  }
 },
 "nbformat": 4,
 "nbformat_minor": 0
}