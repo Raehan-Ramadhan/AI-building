{
 "cells": [
  {
   "cell_type": "code",
   "execution_count": 166,
   "metadata": {
    "collapsed": true
   },
   "outputs": [],
   "source": [
    "import numpy as np"
   ]
  },
  {
   "cell_type": "code",
   "execution_count": 167,
   "outputs": [],
   "source": [
    "class NeuralNet(object):\n",
    "    def __init__(self, network_shape):\n",
    "        self.network_shape = network_shape\n",
    "        self.weights = [np.random.rand(b,a) for a,b in zip(network_shape[1:], network_shape[:-1])]\n",
    "        self.biases = [np.random.rand(1,a) for a in network_shape[1:]]\n",
    "\n",
    "    def forward(self, a):\n",
    "        self.answer = []\n",
    "        for w, b in zip(self.weights, self.biases):\n",
    "            a = self.sigmoid(np.dot(a, w) + b)\n",
    "            self.answer.append(a)\n",
    "        return a\n",
    "\n",
    "    def sigmoid(self, x):\n",
    "        return 1/(1+np.exp(-x))"
   ],
   "metadata": {
    "collapsed": false,
    "pycharm": {
     "name": "#%%\n"
    }
   }
  },
  {
   "cell_type": "code",
   "execution_count": 168,
   "outputs": [
    {
     "name": "stdout",
     "output_type": "stream",
     "text": [
      "[[0.87720007]]\n"
     ]
    }
   ],
   "source": [
    "network_shape = [5,3,4,1]\n",
    "inp = np.array([5,3,2,5,6])\n",
    "\n",
    "ai = NeuralNet(network_shape)\n",
    "ans = ai.forward(inp)\n",
    "\n",
    "print(ans)"
   ],
   "metadata": {
    "collapsed": false,
    "pycharm": {
     "name": "#%%\n"
    }
   }
  },
  {
   "cell_type": "code",
   "execution_count": 168,
   "outputs": [],
   "source": [
    "with np.load('mnist.npz') as data:\n",
    "  training_images = data['training_images']\n",
    "  training_labels = data['training_labels']\n",
    "\n"
   ],
   "metadata": {
    "collapsed": false,
    "pycharm": {
     "name": "#%%\n"
    }
   }
  }
 ],
 "metadata": {
  "kernelspec": {
   "display_name": "Python 3",
   "language": "python",
   "name": "python3"
  },
  "language_info": {
   "codemirror_mode": {
    "name": "ipython",
    "version": 2
   },
   "file_extension": ".py",
   "mimetype": "text/x-python",
   "name": "python",
   "nbconvert_exporter": "python",
   "pygments_lexer": "ipython2",
   "version": "2.7.6"
  }
 },
 "nbformat": 4,
 "nbformat_minor": 0
}